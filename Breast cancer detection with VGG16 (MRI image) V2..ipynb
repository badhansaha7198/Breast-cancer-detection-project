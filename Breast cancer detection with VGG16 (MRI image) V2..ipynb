{
 "cells": [
  {
   "cell_type": "code",
   "execution_count": 1,
   "id": "0265e020",
   "metadata": {},
   "outputs": [],
   "source": [
    "import tensorflow as tf\n",
    "import os\n",
    "import numpy as np"
   ]
  },
  {
   "cell_type": "code",
   "execution_count": 2,
   "id": "26dd4d89",
   "metadata": {},
   "outputs": [],
   "source": [
    "dataset = r\"G:/breast_cancer_mri\""
   ]
  },
  {
   "cell_type": "code",
   "execution_count": 3,
   "id": "266f3c05",
   "metadata": {},
   "outputs": [],
   "source": [
    "IMAGE_SIZE = 224\n",
    "BATCH_SIZE = 64\n",
    "\n",
    "train_data = tf.keras.preprocessing.image.ImageDataGenerator(\n",
    "    rescale = 1./255,\n",
    "    validation_split = 0.1\n",
    ")\n",
    "\n",
    "validation_data = tf.keras.preprocessing.image.ImageDataGenerator(\n",
    "    rescale = 1./255,\n",
    "    validation_split = 0.1\n",
    ")"
   ]
  },
  {
   "cell_type": "code",
   "execution_count": 4,
   "id": "274945a5",
   "metadata": {},
   "outputs": [
    {
     "name": "stdout",
     "output_type": "stream",
     "text": [
      "Found 703 images belonging to 3 classes.\n",
      "Found 77 images belonging to 3 classes.\n"
     ]
    }
   ],
   "source": [
    "train_gen = train_data.flow_from_directory(\n",
    "    dataset,\n",
    "    target_size = (IMAGE_SIZE, IMAGE_SIZE),\n",
    "    batch_size = BATCH_SIZE,\n",
    "    subset='training'\n",
    ") \n",
    "\n",
    "validation_gen = validation_data.flow_from_directory(\n",
    "    dataset,\n",
    "    target_size = (IMAGE_SIZE, IMAGE_SIZE),\n",
    "    batch_size=BATCH_SIZE,\n",
    "    subset='validation'\n",
    ")"
   ]
  },
  {
   "cell_type": "code",
   "execution_count": 5,
   "id": "d77888d7",
   "metadata": {},
   "outputs": [],
   "source": [
    "from tensorflow.keras.layers import Input,Flatten,Dense\n",
    "from tensorflow.keras.models import Model\n",
    "from tensorflow.keras.applications.vgg16 import VGG16\n",
    "from tensorflow.keras.models import Sequential\n",
    "from glob import glob"
   ]
  },
  {
   "cell_type": "code",
   "execution_count": 6,
   "id": "0c4f67b1",
   "metadata": {},
   "outputs": [
    {
     "data": {
      "text/plain": [
       "<KerasTensor: shape=(None, 7, 7, 512) dtype=float32 (created by layer 'block5_pool')>"
      ]
     },
     "execution_count": 6,
     "metadata": {},
     "output_type": "execute_result"
    }
   ],
   "source": [
    "IMAGE_SIZE = [224,224]\n",
    "vgg = VGG16(\n",
    "    input_shape = IMAGE_SIZE+[3],\n",
    "    weights='imagenet',\n",
    "    include_top=False\n",
    ")\n",
    "vgg.output"
   ]
  },
  {
   "cell_type": "code",
   "execution_count": 7,
   "id": "060558d3",
   "metadata": {},
   "outputs": [],
   "source": [
    "for layer in vgg.layers:\n",
    "    layer.trainable=False"
   ]
  },
  {
   "cell_type": "code",
   "execution_count": 8,
   "id": "81bdb5ba",
   "metadata": {},
   "outputs": [
    {
     "name": "stdout",
     "output_type": "stream",
     "text": [
      "3\n"
     ]
    }
   ],
   "source": [
    "folders = glob(r\"G:\\breast_cancer_mri\\*\")\n",
    "print(len(folders))"
   ]
  },
  {
   "cell_type": "code",
   "execution_count": 9,
   "id": "200da0f6",
   "metadata": {},
   "outputs": [
    {
     "name": "stdout",
     "output_type": "stream",
     "text": [
      "Model: \"model\"\n",
      "_________________________________________________________________\n",
      "Layer (type)                 Output Shape              Param #   \n",
      "=================================================================\n",
      "input_1 (InputLayer)         [(None, 224, 224, 3)]     0         \n",
      "_________________________________________________________________\n",
      "block1_conv1 (Conv2D)        (None, 224, 224, 64)      1792      \n",
      "_________________________________________________________________\n",
      "block1_conv2 (Conv2D)        (None, 224, 224, 64)      36928     \n",
      "_________________________________________________________________\n",
      "block1_pool (MaxPooling2D)   (None, 112, 112, 64)      0         \n",
      "_________________________________________________________________\n",
      "block2_conv1 (Conv2D)        (None, 112, 112, 128)     73856     \n",
      "_________________________________________________________________\n",
      "block2_conv2 (Conv2D)        (None, 112, 112, 128)     147584    \n",
      "_________________________________________________________________\n",
      "block2_pool (MaxPooling2D)   (None, 56, 56, 128)       0         \n",
      "_________________________________________________________________\n",
      "block3_conv1 (Conv2D)        (None, 56, 56, 256)       295168    \n",
      "_________________________________________________________________\n",
      "block3_conv2 (Conv2D)        (None, 56, 56, 256)       590080    \n",
      "_________________________________________________________________\n",
      "block3_conv3 (Conv2D)        (None, 56, 56, 256)       590080    \n",
      "_________________________________________________________________\n",
      "block3_pool (MaxPooling2D)   (None, 28, 28, 256)       0         \n",
      "_________________________________________________________________\n",
      "block4_conv1 (Conv2D)        (None, 28, 28, 512)       1180160   \n",
      "_________________________________________________________________\n",
      "block4_conv2 (Conv2D)        (None, 28, 28, 512)       2359808   \n",
      "_________________________________________________________________\n",
      "block4_conv3 (Conv2D)        (None, 28, 28, 512)       2359808   \n",
      "_________________________________________________________________\n",
      "block4_pool (MaxPooling2D)   (None, 14, 14, 512)       0         \n",
      "_________________________________________________________________\n",
      "block5_conv1 (Conv2D)        (None, 14, 14, 512)       2359808   \n",
      "_________________________________________________________________\n",
      "block5_conv2 (Conv2D)        (None, 14, 14, 512)       2359808   \n",
      "_________________________________________________________________\n",
      "block5_conv3 (Conv2D)        (None, 14, 14, 512)       2359808   \n",
      "_________________________________________________________________\n",
      "block5_pool (MaxPooling2D)   (None, 7, 7, 512)         0         \n",
      "_________________________________________________________________\n",
      "flatten (Flatten)            (None, 25088)             0         \n",
      "_________________________________________________________________\n",
      "dense (Dense)                (None, 3)                 75267     \n",
      "=================================================================\n",
      "Total params: 14,789,955\n",
      "Trainable params: 75,267\n",
      "Non-trainable params: 14,714,688\n",
      "_________________________________________________________________\n"
     ]
    }
   ],
   "source": [
    "x = Flatten()(vgg.output)\n",
    "prediction = Dense(len(folders), activation = 'softmax')(x)\n",
    "model=Model(inputs = vgg.input, outputs = prediction)\n",
    "model.summary()"
   ]
  },
  {
   "cell_type": "code",
   "execution_count": 10,
   "id": "20a32790",
   "metadata": {},
   "outputs": [],
   "source": [
    "model.compile(loss='binary_crossentropy', optimizer='adam', metrics=['accuracy'])"
   ]
  },
  {
   "cell_type": "code",
   "execution_count": 11,
   "id": "e59aeff8",
   "metadata": {},
   "outputs": [
    {
     "name": "stdout",
     "output_type": "stream",
     "text": [
      "Epoch 1/20\n",
      "11/11 [==============================] - 87s 8s/step - loss: 0.6359 - accuracy: 0.6245 - val_loss: 0.5394 - val_accuracy: 0.5974\n",
      "Epoch 2/20\n",
      "11/11 [==============================] - 86s 8s/step - loss: 0.4391 - accuracy: 0.7070 - val_loss: 0.4999 - val_accuracy: 0.6623\n",
      "Epoch 3/20\n",
      "11/11 [==============================] - 85s 8s/step - loss: 0.3480 - accuracy: 0.7895 - val_loss: 0.5150 - val_accuracy: 0.5844\n",
      "Epoch 4/20\n",
      "11/11 [==============================] - 85s 8s/step - loss: 0.3086 - accuracy: 0.8151 - val_loss: 0.4919 - val_accuracy: 0.6104\n",
      "Epoch 5/20\n",
      "11/11 [==============================] - 87s 8s/step - loss: 0.2829 - accuracy: 0.8620 - val_loss: 0.4590 - val_accuracy: 0.6883\n",
      "Epoch 6/20\n",
      "11/11 [==============================] - 86s 8s/step - loss: 0.2513 - accuracy: 0.8919 - val_loss: 0.4688 - val_accuracy: 0.6623\n",
      "Epoch 7/20\n",
      "11/11 [==============================] - 86s 8s/step - loss: 0.2397 - accuracy: 0.8819 - val_loss: 0.4685 - val_accuracy: 0.6753\n",
      "Epoch 8/20\n",
      "11/11 [==============================] - 86s 8s/step - loss: 0.2269 - accuracy: 0.8962 - val_loss: 0.4480 - val_accuracy: 0.6883\n",
      "Epoch 9/20\n",
      "11/11 [==============================] - 85s 8s/step - loss: 0.1992 - accuracy: 0.9118 - val_loss: 0.4496 - val_accuracy: 0.6623\n",
      "Epoch 10/20\n",
      "11/11 [==============================] - 85s 8s/step - loss: 0.1839 - accuracy: 0.9403 - val_loss: 0.4506 - val_accuracy: 0.6494\n",
      "Epoch 11/20\n",
      "11/11 [==============================] - 85s 8s/step - loss: 0.1725 - accuracy: 0.9374 - val_loss: 0.4376 - val_accuracy: 0.7143\n",
      "Epoch 12/20\n",
      "11/11 [==============================] - 85s 8s/step - loss: 0.1628 - accuracy: 0.9531 - val_loss: 0.4347 - val_accuracy: 0.6753\n",
      "Epoch 13/20\n",
      "11/11 [==============================] - 86s 8s/step - loss: 0.1473 - accuracy: 0.9602 - val_loss: 0.4674 - val_accuracy: 0.6494\n",
      "Epoch 14/20\n",
      "11/11 [==============================] - 86s 8s/step - loss: 0.1481 - accuracy: 0.9644 - val_loss: 0.4790 - val_accuracy: 0.6364\n",
      "Epoch 15/20\n",
      "11/11 [==============================] - 85s 8s/step - loss: 0.1416 - accuracy: 0.9644 - val_loss: 0.4615 - val_accuracy: 0.6623\n",
      "Epoch 16/20\n",
      "11/11 [==============================] - 85s 8s/step - loss: 0.1262 - accuracy: 0.9744 - val_loss: 0.4568 - val_accuracy: 0.6753\n",
      "Epoch 17/20\n",
      "11/11 [==============================] - 86s 8s/step - loss: 0.1192 - accuracy: 0.9716 - val_loss: 0.4491 - val_accuracy: 0.6753\n",
      "Epoch 18/20\n",
      "11/11 [==============================] - 88s 8s/step - loss: 0.1146 - accuracy: 0.9758 - val_loss: 0.4515 - val_accuracy: 0.6753\n",
      "Epoch 19/20\n",
      "11/11 [==============================] - 87s 8s/step - loss: 0.1108 - accuracy: 0.9787 - val_loss: 0.4426 - val_accuracy: 0.7143\n",
      "Epoch 20/20\n",
      "11/11 [==============================] - 86s 8s/step - loss: 0.1050 - accuracy: 0.9815 - val_loss: 0.4424 - val_accuracy: 0.7403\n"
     ]
    }
   ],
   "source": [
    "epoch = 20\n",
    "\n",
    "history = model.fit(train_gen,\n",
    "                    steps_per_epoch = len(train_gen),\n",
    "                    epochs = epoch,\n",
    "                    validation_data=validation_gen,\n",
    "                    validation_steps=len(validation_gen)\n",
    "                   )"
   ]
  },
  {
   "cell_type": "code",
   "execution_count": 12,
   "id": "c4fc16cb",
   "metadata": {},
   "outputs": [
    {
     "name": "stdout",
     "output_type": "stream",
     "text": [
      "2/2 [==============================] - 9s 1s/step - loss: 0.4424 - accuracy: 0.7403\n"
     ]
    }
   ],
   "source": [
    "score = model.evaluate(validation_gen)"
   ]
  },
  {
   "cell_type": "code",
   "execution_count": 13,
   "id": "3ecf110a",
   "metadata": {},
   "outputs": [
    {
     "data": {
      "text/plain": [
       "{'verbose': 1, 'epochs': 20, 'steps': 11}"
      ]
     },
     "execution_count": 13,
     "metadata": {},
     "output_type": "execute_result"
    }
   ],
   "source": [
    "history.params"
   ]
  },
  {
   "cell_type": "code",
   "execution_count": 14,
   "id": "9812dffb",
   "metadata": {},
   "outputs": [
    {
     "data": {
      "text/plain": [
       "dict_keys(['loss', 'accuracy', 'val_loss', 'val_accuracy'])"
      ]
     },
     "execution_count": 14,
     "metadata": {},
     "output_type": "execute_result"
    }
   ],
   "source": [
    "history.history.keys()"
   ]
  },
  {
   "cell_type": "code",
   "execution_count": 15,
   "id": "17a1acf2",
   "metadata": {},
   "outputs": [],
   "source": [
    "acc = history.history['accuracy']\n",
    "val_acc = history.history['val_accuracy']\n",
    "\n",
    "loss = history.history['loss']\n",
    "val_loss = history.history['val_loss']"
   ]
  },
  {
   "cell_type": "code",
   "execution_count": 16,
   "id": "e5b77574",
   "metadata": {},
   "outputs": [],
   "source": [
    "import matplotlib.pyplot as plt"
   ]
  },
  {
   "cell_type": "code",
   "execution_count": 17,
   "id": "6093d469",
   "metadata": {},
   "outputs": [
    {
     "data": {
      "image/png": "[encoded data removed]",
      "text/plain": [
       "<Figure size 800x800 with 2 Axes>"
      ]
     },
     "metadata": {},
     "output_type": "display_data"
    }
   ],
   "source": [
    "plt.figure(figsize=(8, 8))\n",
    "plt.subplot(1, 2, 1)\n",
    "plt.plot(range(epoch), acc, label='Training Accuracy')\n",
    "plt.plot(range(epoch), val_acc, label='Validation Accuracy')\n",
    "plt.legend(loc='lower right')\n",
    "plt.title('Training and Validation Accuracy')\n",
    "\n",
    "plt.subplot(1, 2, 2)\n",
    "plt.plot(range(epoch), loss, label='Training Loss')\n",
    "plt.plot(range(epoch), val_loss, label='Validation Loss')\n",
    "plt.legend(loc='upper right')\n",
    "plt.title('Training and Validation Loss')\n",
    "plt.show()"
   ]
  },
  {
   "cell_type": "code",
   "execution_count": 18,
   "id": "a09c6af5",
   "metadata": {},
   "outputs": [
    {
     "name": "stdout",
     "output_type": "stream",
     "text": [
      "INFO:tensorflow:Assets written to: model/bcmri_vgg\\assets\n"
     ]
    }
   ],
   "source": [
    "model_version = \"bcmri_vgg\"\n",
    "model.save(f\"model/{model_version}\")"
   ]
  },
  {
   "cell_type": "code",
   "execution_count": null,
   "id": "9efd6756",
   "metadata": {},
   "outputs": [],
   "source": []
  }
 ],
 "metadata": {
  "kernelspec": {
   "display_name": "Python 3 (ipykernel)",
   "language": "python",
   "name": "python3"
  },
  "language_info": {
   "codemirror_mode": {
    "name": "ipython",
    "version": 3
   },
   "file_extension": ".py",
   "mimetype": "text/x-python",
   "name": "python",
   "nbconvert_exporter": "python",
   "pygments_lexer": "ipython3",
   "version": "3.9.12"
  }
 },
 "nbformat": 4,
 "nbformat_minor": 5
}
