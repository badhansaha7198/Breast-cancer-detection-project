{
 "cells": [
  {
   "cell_type": "code",
   "execution_count": 1,
   "id": "6668d3d7",
   "metadata": {},
   "outputs": [],
   "source": [
    "import tensorflow as tf\n",
    "import os\n",
    "import numpy as np"
   ]
  },
  {
   "cell_type": "code",
   "execution_count": 2,
   "id": "2cc3e83f",
   "metadata": {},
   "outputs": [],
   "source": [
    "dataset = r\"G:\\breast_cancer\""
   ]
  },
  {
   "cell_type": "code",
   "execution_count": 3,
   "id": "c4146fa4",
   "metadata": {},
   "outputs": [],
   "source": [
    "IMAGE_SIZE = 224\n",
    "BATCH_SIZE = 64\n",
    "\n",
    "train_data = tf.keras.preprocessing.image.ImageDataGenerator(\n",
    "    rescale = 1./255,\n",
    "    validation_split = 0.1\n",
    ")\n",
    "\n",
    "validation_data = tf.keras.preprocessing.image.ImageDataGenerator(\n",
    "    rescale = 1./255,\n",
    "    validation_split = 0.1\n",
    ")"
   ]
  },
  {
   "cell_type": "code",
   "execution_count": 4,
   "id": "4a2c2e19",
   "metadata": {},
   "outputs": [
    {
     "name": "stdout",
     "output_type": "stream",
     "text": [
      "Found 7135 images belonging to 2 classes.\n",
      "Found 791 images belonging to 2 classes.\n"
     ]
    }
   ],
   "source": [
    "train_gen = train_data.flow_from_directory(\n",
    "    dataset,\n",
    "    target_size = (IMAGE_SIZE, IMAGE_SIZE),\n",
    "    batch_size = BATCH_SIZE,\n",
    "    subset='training'\n",
    ") \n",
    "\n",
    "validation_gen = validation_data.flow_from_directory(\n",
    "    dataset,\n",
    "    target_size = (IMAGE_SIZE, IMAGE_SIZE),\n",
    "    batch_size=BATCH_SIZE,\n",
    "    subset='validation'\n",
    ") "
   ]
  },
  {
   "cell_type": "code",
   "execution_count": 5,
   "id": "0448c83c",
   "metadata": {},
   "outputs": [],
   "source": [
    "from tensorflow.keras.layers import Input,Flatten,Dense\n",
    "from tensorflow.keras.models import Model\n",
    "from tensorflow.keras.applications.vgg16 import VGG16\n",
    "from tensorflow.keras.models import Sequential\n",
    "from glob import glob"
   ]
  },
  {
   "cell_type": "code",
   "execution_count": 6,
   "id": "6aae06ae",
   "metadata": {},
   "outputs": [
    {
     "data": {
      "text/plain": [
       "<KerasTensor: shape=(None, 7, 7, 512) dtype=float32 (created by layer 'block5_pool')>"
      ]
     },
     "execution_count": 6,
     "metadata": {},
     "output_type": "execute_result"
    }
   ],
   "source": [
    "IMAGE_SIZE = [224,224]\n",
    "vgg = VGG16(\n",
    "    input_shape = IMAGE_SIZE+[3],\n",
    "    weights='imagenet',\n",
    "    include_top=False\n",
    ")\n",
    "vgg.output"
   ]
  },
  {
   "cell_type": "code",
   "execution_count": 7,
   "id": "c2f82972",
   "metadata": {},
   "outputs": [],
   "source": [
    "for layer in vgg.layers:\n",
    "    layer.trainable=False"
   ]
  },
  {
   "cell_type": "code",
   "execution_count": 8,
   "id": "66fe1a2e",
   "metadata": {},
   "outputs": [
    {
     "name": "stdout",
     "output_type": "stream",
     "text": [
      "2\n"
     ]
    }
   ],
   "source": [
    "folders = glob(r\"G:\\breast_cancer\\*\")\n",
    "print(len(folders))"
   ]
  },
  {
   "cell_type": "code",
   "execution_count": 9,
   "id": "9e282086",
   "metadata": {},
   "outputs": [
    {
     "name": "stdout",
     "output_type": "stream",
     "text": [
      "Model: \"model\"\n",
      "_________________________________________________________________\n",
      "Layer (type)                 Output Shape              Param #   \n",
      "=================================================================\n",
      "input_1 (InputLayer)         [(None, 224, 224, 3)]     0         \n",
      "_________________________________________________________________\n",
      "block1_conv1 (Conv2D)        (None, 224, 224, 64)      1792      \n",
      "_________________________________________________________________\n",
      "block1_conv2 (Conv2D)        (None, 224, 224, 64)      36928     \n",
      "_________________________________________________________________\n",
      "block1_pool (MaxPooling2D)   (None, 112, 112, 64)      0         \n",
      "_________________________________________________________________\n",
      "block2_conv1 (Conv2D)        (None, 112, 112, 128)     73856     \n",
      "_________________________________________________________________\n",
      "block2_conv2 (Conv2D)        (None, 112, 112, 128)     147584    \n",
      "_________________________________________________________________\n",
      "block2_pool (MaxPooling2D)   (None, 56, 56, 128)       0         \n",
      "_________________________________________________________________\n",
      "block3_conv1 (Conv2D)        (None, 56, 56, 256)       295168    \n",
      "_________________________________________________________________\n",
      "block3_conv2 (Conv2D)        (None, 56, 56, 256)       590080    \n",
      "_________________________________________________________________\n",
      "block3_conv3 (Conv2D)        (None, 56, 56, 256)       590080    \n",
      "_________________________________________________________________\n",
      "block3_pool (MaxPooling2D)   (None, 28, 28, 256)       0         \n",
      "_________________________________________________________________\n",
      "block4_conv1 (Conv2D)        (None, 28, 28, 512)       1180160   \n",
      "_________________________________________________________________\n",
      "block4_conv2 (Conv2D)        (None, 28, 28, 512)       2359808   \n",
      "_________________________________________________________________\n",
      "block4_conv3 (Conv2D)        (None, 28, 28, 512)       2359808   \n",
      "_________________________________________________________________\n",
      "block4_pool (MaxPooling2D)   (None, 14, 14, 512)       0         \n",
      "_________________________________________________________________\n",
      "block5_conv1 (Conv2D)        (None, 14, 14, 512)       2359808   \n",
      "_________________________________________________________________\n",
      "block5_conv2 (Conv2D)        (None, 14, 14, 512)       2359808   \n",
      "_________________________________________________________________\n",
      "block5_conv3 (Conv2D)        (None, 14, 14, 512)       2359808   \n",
      "_________________________________________________________________\n",
      "block5_pool (MaxPooling2D)   (None, 7, 7, 512)         0         \n",
      "_________________________________________________________________\n",
      "flatten (Flatten)            (None, 25088)             0         \n",
      "_________________________________________________________________\n",
      "dense (Dense)                (None, 2)                 50178     \n",
      "=================================================================\n",
      "Total params: 14,764,866\n",
      "Trainable params: 50,178\n",
      "Non-trainable params: 14,714,688\n",
      "_________________________________________________________________\n"
     ]
    }
   ],
   "source": [
    "x = Flatten()(vgg.output)\n",
    "prediction = Dense(len(folders), activation = 'softmax')(x)\n",
    "model=Model(inputs = vgg.input, outputs = prediction)\n",
    "model.summary()"
   ]
  },
  {
   "cell_type": "code",
   "execution_count": 10,
   "id": "28dd9f40",
   "metadata": {},
   "outputs": [],
   "source": [
    "model.compile(loss='binary_crossentropy', optimizer='adam', metrics=['accuracy'])"
   ]
  },
  {
   "cell_type": "code",
   "execution_count": 11,
   "id": "90ab21d8",
   "metadata": {},
   "outputs": [
    {
     "name": "stdout",
     "output_type": "stream",
     "text": [
      "Epoch 1/10\n",
      "112/112 [==============================] - 900s 8s/step - loss: 0.4867 - accuracy: 0.7867 - val_loss: 0.5144 - val_accuracy: 0.7598\n",
      "Epoch 2/10\n",
      "112/112 [==============================] - 874s 8s/step - loss: 0.3337 - accuracy: 0.8667 - val_loss: 0.5518 - val_accuracy: 0.7446\n",
      "Epoch 3/10\n",
      "112/112 [==============================] - 877s 8s/step - loss: 0.2858 - accuracy: 0.8893 - val_loss: 0.5036 - val_accuracy: 0.7712\n",
      "Epoch 4/10\n",
      "112/112 [==============================] - 877s 8s/step - loss: 0.2510 - accuracy: 0.9051 - val_loss: 0.4930 - val_accuracy: 0.7611\n",
      "Epoch 5/10\n",
      "112/112 [==============================] - 876s 8s/step - loss: 0.2138 - accuracy: 0.9253 - val_loss: 0.5085 - val_accuracy: 0.7611\n",
      "Epoch 6/10\n",
      "112/112 [==============================] - 876s 8s/step - loss: 0.2048 - accuracy: 0.9249 - val_loss: 0.6502 - val_accuracy: 0.7320\n",
      "Epoch 7/10\n",
      "112/112 [==============================] - 881s 8s/step - loss: 0.1781 - accuracy: 0.9390 - val_loss: 0.5111 - val_accuracy: 0.7724\n",
      "Epoch 8/10\n",
      "112/112 [==============================] - 876s 8s/step - loss: 0.1709 - accuracy: 0.9410 - val_loss: 0.5226 - val_accuracy: 0.7788\n",
      "Epoch 9/10\n",
      "112/112 [==============================] - 874s 8s/step - loss: 0.1485 - accuracy: 0.9546 - val_loss: 0.5317 - val_accuracy: 0.7686\n",
      "Epoch 10/10\n",
      "112/112 [==============================] - 875s 8s/step - loss: 0.1398 - accuracy: 0.9582 - val_loss: 0.5180 - val_accuracy: 0.7699\n"
     ]
    }
   ],
   "source": [
    "epoch = 10\n",
    "\n",
    "history = model.fit(train_gen,\n",
    "                    steps_per_epoch = len(train_gen),\n",
    "                    epochs = epoch,\n",
    "                    validation_data=validation_gen,\n",
    "                    validation_steps=len(validation_gen)\n",
    "                   )"
   ]
  },
  {
   "cell_type": "code",
   "execution_count": 13,
   "id": "28da5e41",
   "metadata": {},
   "outputs": [
    {
     "name": "stdout",
     "output_type": "stream",
     "text": [
      "13/13 [==============================] - 88s 7s/step - loss: 0.5180 - accuracy: 0.7699\n"
     ]
    }
   ],
   "source": [
    "score = model.evaluate(validation_gen)"
   ]
  },
  {
   "cell_type": "code",
   "execution_count": 14,
   "id": "06ce80f5",
   "metadata": {},
   "outputs": [
    {
     "data": {
      "text/plain": [
       "{'verbose': 1, 'epochs': 10, 'steps': 112}"
      ]
     },
     "execution_count": 14,
     "metadata": {},
     "output_type": "execute_result"
    }
   ],
   "source": [
    "history.params"
   ]
  },
  {
   "cell_type": "code",
   "execution_count": 15,
   "id": "ee687f60",
   "metadata": {},
   "outputs": [
    {
     "data": {
      "text/plain": [
       "dict_keys(['loss', 'accuracy', 'val_loss', 'val_accuracy'])"
      ]
     },
     "execution_count": 15,
     "metadata": {},
     "output_type": "execute_result"
    }
   ],
   "source": [
    "history.history.keys()"
   ]
  },
  {
   "cell_type": "code",
   "execution_count": 16,
   "id": "9a2414e8",
   "metadata": {},
   "outputs": [],
   "source": [
    "acc = history.history['accuracy']\n",
    "val_acc = history.history['val_accuracy']\n",
    "\n",
    "loss = history.history['loss']\n",
    "val_loss = history.history['val_loss']"
   ]
  },
  {
   "cell_type": "code",
   "execution_count": 17,
   "id": "879457c0",
   "metadata": {},
   "outputs": [],
   "source": [
    "import matplotlib.pyplot as plt"
   ]
  },
  {
   "cell_type": "code",
   "execution_count": 18,
   "id": "936aa1d1",
   "metadata": {},
   "outputs": [
    {
     "data": {
      "image/png": "[encoded data removed]",
      "text/plain": [
       "<Figure size 800x800 with 2 Axes>"
      ]
     },
     "metadata": {},
     "output_type": "display_data"
    }
   ],
   "source": [
    "plt.figure(figsize=(8, 8))\n",
    "plt.subplot(1, 2, 1)\n",
    "plt.plot(range(epoch), acc, label='Training Accuracy')\n",
    "plt.plot(range(epoch), val_acc, label='Validation Accuracy')\n",
    "plt.legend(loc='lower right')\n",
    "plt.title('Training and Validation Accuracy')\n",
    "\n",
    "plt.subplot(1, 2, 2)\n",
    "plt.plot(range(epoch), loss, label='Training Loss')\n",
    "plt.plot(range(epoch), val_loss, label='Validation Loss')\n",
    "plt.legend(loc='upper right')\n",
    "plt.title('Training and Validation Loss')\n",
    "plt.show()"
   ]
  },
  {
   "cell_type": "code",
   "execution_count": 27,
   "id": "85b585a6",
   "metadata": {},
   "outputs": [
    {
     "name": "stdout",
     "output_type": "stream",
     "text": [
      "INFO:tensorflow:Assets written to: model/2\\assets\n"
     ]
    }
   ],
   "source": [
    "model_version = 2\n",
    "model.save(f\"model/{model_version}\")"
   ]
  },
  {
   "cell_type": "code",
   "execution_count": null,
   "id": "386a9f4c",
   "metadata": {},
   "outputs": [],
   "source": []
  }
 ],
 "metadata": {
  "kernelspec": {
   "display_name": "Python 3 (ipykernel)",
   "language": "python",
   "name": "python3"
  },
  "language_info": {
   "codemirror_mode": {
    "name": "ipython",
    "version": 3
   },
   "file_extension": ".py",
   "mimetype": "text/x-python",
   "name": "python",
   "nbconvert_exporter": "python",
   "pygments_lexer": "ipython3",
   "version": "3.9.12"
  }
 },
 "nbformat": 4,
 "nbformat_minor": 5
}
