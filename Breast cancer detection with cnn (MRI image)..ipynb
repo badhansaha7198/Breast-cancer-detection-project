{
 "cells": [
  {
   "cell_type": "code",
   "execution_count": 1,
   "id": "5f936741",
   "metadata": {},
   "outputs": [],
   "source": [
    "import tensorflow as tf\n",
    "from tensorflow.keras import models, layers\n",
    "import numpy as np\n",
    "import matplotlib.pyplot as plt\n",
    "import pandas as pd\n",
    "import seaborn as sns"
   ]
  },
  {
   "cell_type": "code",
   "execution_count": 2,
   "id": "c5812c16",
   "metadata": {},
   "outputs": [],
   "source": [
    "IMG_SIZE = 224\n",
    "BATCH_SIZE = 32\n",
    "CHANNELS = 3\n",
    "EPOCH = 20"
   ]
  },
  {
   "cell_type": "code",
   "execution_count": 3,
   "id": "6b1c7bef",
   "metadata": {},
   "outputs": [
    {
     "name": "stdout",
     "output_type": "stream",
     "text": [
      "Found 780 files belonging to 3 classes.\n"
     ]
    }
   ],
   "source": [
    "dataset = tf.keras.preprocessing.image_dataset_from_directory(\n",
    "    \"breast_cancer_mri\",\n",
    "    shuffle= True,\n",
    "    image_size= (IMG_SIZE, IMG_SIZE),\n",
    "    batch_size= BATCH_SIZE\n",
    ")"
   ]
  },
  {
   "cell_type": "code",
   "execution_count": 4,
   "id": "3ffcdf9e",
   "metadata": {},
   "outputs": [
    {
     "data": {
      "text/plain": [
       "['benign', 'malignant', 'normal']"
      ]
     },
     "execution_count": 4,
     "metadata": {},
     "output_type": "execute_result"
    }
   ],
   "source": [
    "class_names = dataset.class_names\n",
    "class_names"
   ]
  },
  {
   "cell_type": "code",
   "execution_count": 5,
   "id": "cf5250ef",
   "metadata": {},
   "outputs": [
    {
     "data": {
      "text/plain": [
       "25"
      ]
     },
     "execution_count": 5,
     "metadata": {},
     "output_type": "execute_result"
    }
   ],
   "source": [
    "len(dataset)"
   ]
  },
  {
   "cell_type": "markdown",
   "id": "dc5031a1",
   "metadata": {},
   "source": [
    "training data = 80% ; validation data = 10% ; testing data = 10%\n"
   ]
  },
  {
   "cell_type": "code",
   "execution_count": 6,
   "id": "2af550a5",
   "metadata": {},
   "outputs": [],
   "source": [
    "def dataset_partition(ds, train_split=0.8, val_split=0.1, test_split=0.1, shuffle=True, shuffle_size=10000):\n",
    "    \n",
    "    ds_size = len(ds)\n",
    "    \n",
    "    if shuffle:\n",
    "        ds = ds.shuffle(shuffle_size, seed=12)\n",
    "        \n",
    "    train_size = int(train_split * ds_size)\n",
    "    val_size = int(val_split * ds_size)\n",
    "    \n",
    "    train_ds = ds.take(train_size)\n",
    "    val_ds = ds.skip(train_size).take(val_size)\n",
    "    test_ds = ds.skip(train_size).skip(val_size)\n",
    "    \n",
    "    return train_ds, val_ds, test_ds"
   ]
  },
  {
   "cell_type": "code",
   "execution_count": 7,
   "id": "c87e43ad",
   "metadata": {},
   "outputs": [],
   "source": [
    "train_ds, val_ds, test_ds = dataset_partition(dataset)"
   ]
  },
  {
   "cell_type": "code",
   "execution_count": 8,
   "id": "1ad3967a",
   "metadata": {},
   "outputs": [
    {
     "data": {
      "text/plain": [
       "20"
      ]
     },
     "execution_count": 8,
     "metadata": {},
     "output_type": "execute_result"
    }
   ],
   "source": [
    "len(train_ds)"
   ]
  },
  {
   "cell_type": "code",
   "execution_count": 9,
   "id": "a8411663",
   "metadata": {},
   "outputs": [
    {
     "data": {
      "text/plain": [
       "2"
      ]
     },
     "execution_count": 9,
     "metadata": {},
     "output_type": "execute_result"
    }
   ],
   "source": [
    "len(val_ds)"
   ]
  },
  {
   "cell_type": "code",
   "execution_count": 10,
   "id": "06bf8cfb",
   "metadata": {},
   "outputs": [
    {
     "data": {
      "text/plain": [
       "3"
      ]
     },
     "execution_count": 10,
     "metadata": {},
     "output_type": "execute_result"
    }
   ],
   "source": [
    "len(test_ds)"
   ]
  },
  {
   "cell_type": "code",
   "execution_count": 11,
   "id": "32f7b245",
   "metadata": {},
   "outputs": [],
   "source": [
    "train_ds = train_ds.cache().shuffle(1000).prefetch(buffer_size=tf.data.AUTOTUNE)\n",
    "val_ds = val_ds.cache().shuffle(1000).prefetch(buffer_size=tf.data.AUTOTUNE)\n",
    "test_ds = test_ds.cache().shuffle(1000).prefetch(buffer_size=tf.data.AUTOTUNE)"
   ]
  },
  {
   "cell_type": "code",
   "execution_count": 12,
   "id": "48ce5d95",
   "metadata": {},
   "outputs": [],
   "source": [
    "resize_and_rescale = tf.keras.Sequential([\n",
    "    layers.experimental.preprocessing.Resizing(IMG_SIZE, IMG_SIZE),\n",
    "    layers.experimental.preprocessing.Rescaling(1.0/255)\n",
    "])"
   ]
  },
  {
   "cell_type": "markdown",
   "id": "1ab0d769",
   "metadata": {},
   "source": [
    "data_augmentation = tf.keras.Sequential([\n",
    "    layers.experimental.preprocessing.RandomFlip(\"horizontal_and_vertical\"),\n",
    "    layers.experimental.preprocessing.RandomRotation(0.2)\n",
    "])\n"
   ]
  },
  {
   "cell_type": "code",
   "execution_count": 13,
   "id": "b3cc9bc2",
   "metadata": {},
   "outputs": [],
   "source": [
    "input_shape = (BATCH_SIZE, IMG_SIZE, IMG_SIZE, CHANNELS)\n",
    "n_classes = 3\n",
    "\n",
    "model = models.Sequential([\n",
    "    resize_and_rescale,\n",
    "    #data_augmentation,\n",
    "    \n",
    "    layers.Conv2D(32, (3, 3), activation='relu', input_shape=input_shape),\n",
    "    layers.MaxPooling2D((2, 2)),\n",
    "    layers.Conv2D(64, kernel_size= (3, 3), activation='relu'),\n",
    "    layers.MaxPooling2D((2, 2)),\n",
    "    layers.Conv2D(64, kernel_size= (3, 3), activation='relu'),\n",
    "    layers.MaxPooling2D((2, 2)),\n",
    "    layers.Conv2D(64, (3, 3), activation='relu'),\n",
    "    layers.MaxPooling2D((2, 2)),\n",
    "    layers.Conv2D(64, (3, 3), activation='relu'),\n",
    "    layers.MaxPooling2D((2, 2)),\n",
    "    layers.Conv2D(64, (3, 3), activation='relu'),\n",
    "    layers.MaxPooling2D((2, 2)),\n",
    "    \n",
    "    layers.Flatten(),\n",
    "    layers.Dense(64, activation='relu'),\n",
    "    layers.Dense(n_classes, activation='softmax')\n",
    "])\n",
    "\n",
    "model.build(input_shape=input_shape)"
   ]
  },
  {
   "cell_type": "code",
   "execution_count": 14,
   "id": "cac6becb",
   "metadata": {},
   "outputs": [],
   "source": [
    "model.compile(\n",
    "    optimizer='adam',\n",
    "    loss=tf.keras.losses.SparseCategoricalCrossentropy(from_logits=False),\n",
    "    metrics=['accuracy']\n",
    ")"
   ]
  },
  {
   "cell_type": "code",
   "execution_count": 15,
   "id": "dd3729d8",
   "metadata": {},
   "outputs": [
    {
     "name": "stdout",
     "output_type": "stream",
     "text": [
      "Epoch 1/20\n",
      "20/20 [==============================] - 23s 1000ms/step - loss: 0.9629 - accuracy: 0.5677 - val_loss: 0.9762 - val_accuracy: 0.5156\n",
      "Epoch 2/20\n",
      "20/20 [==============================] - 17s 829ms/step - loss: 0.9137 - accuracy: 0.6048 - val_loss: 0.9706 - val_accuracy: 0.5625\n",
      "Epoch 3/20\n",
      "20/20 [==============================] - 16s 818ms/step - loss: 0.8964 - accuracy: 0.6194 - val_loss: 0.8666 - val_accuracy: 0.6875\n",
      "Epoch 4/20\n",
      "20/20 [==============================] - 17s 826ms/step - loss: 0.8508 - accuracy: 0.6145 - val_loss: 0.9036 - val_accuracy: 0.5938\n",
      "Epoch 5/20\n",
      "20/20 [==============================] - 17s 825ms/step - loss: 0.8296 - accuracy: 0.6548 - val_loss: 0.7673 - val_accuracy: 0.6406\n",
      "Epoch 6/20\n",
      "20/20 [==============================] - 16s 823ms/step - loss: 0.7381 - accuracy: 0.6726 - val_loss: 0.7621 - val_accuracy: 0.6719\n",
      "Epoch 7/20\n",
      "20/20 [==============================] - 16s 819ms/step - loss: 0.7242 - accuracy: 0.6758 - val_loss: 0.7292 - val_accuracy: 0.6562\n",
      "Epoch 8/20\n",
      "20/20 [==============================] - 16s 820ms/step - loss: 0.6718 - accuracy: 0.6952 - val_loss: 0.6793 - val_accuracy: 0.6719\n",
      "Epoch 9/20\n",
      "20/20 [==============================] - 16s 814ms/step - loss: 0.6020 - accuracy: 0.6984 - val_loss: 0.6060 - val_accuracy: 0.6875\n",
      "Epoch 10/20\n",
      "20/20 [==============================] - 16s 816ms/step - loss: 0.5509 - accuracy: 0.7452 - val_loss: 0.5903 - val_accuracy: 0.7188\n",
      "Epoch 11/20\n",
      "20/20 [==============================] - 16s 817ms/step - loss: 0.5725 - accuracy: 0.7355 - val_loss: 0.6536 - val_accuracy: 0.6562\n",
      "Epoch 12/20\n",
      "20/20 [==============================] - 16s 816ms/step - loss: 0.5121 - accuracy: 0.7548 - val_loss: 0.5251 - val_accuracy: 0.7344\n",
      "Epoch 13/20\n",
      "20/20 [==============================] - 17s 902ms/step - loss: 0.4797 - accuracy: 0.7806 - val_loss: 0.5106 - val_accuracy: 0.7812\n",
      "Epoch 14/20\n",
      "20/20 [==============================] - 17s 837ms/step - loss: 0.4000 - accuracy: 0.8339 - val_loss: 0.5426 - val_accuracy: 0.7344\n",
      "Epoch 15/20\n",
      "20/20 [==============================] - 17s 831ms/step - loss: 0.4033 - accuracy: 0.8113 - val_loss: 0.4618 - val_accuracy: 0.7812\n",
      "Epoch 16/20\n",
      "20/20 [==============================] - 16s 824ms/step - loss: 0.3223 - accuracy: 0.8742 - val_loss: 0.4983 - val_accuracy: 0.7969\n",
      "Epoch 17/20\n",
      "20/20 [==============================] - 16s 815ms/step - loss: 0.2886 - accuracy: 0.8823 - val_loss: 0.4522 - val_accuracy: 0.8594\n",
      "Epoch 18/20\n",
      "20/20 [==============================] - 16s 808ms/step - loss: 0.2308 - accuracy: 0.9081 - val_loss: 0.2922 - val_accuracy: 0.8750\n",
      "Epoch 19/20\n",
      "20/20 [==============================] - 16s 809ms/step - loss: 0.2579 - accuracy: 0.9290 - val_loss: 0.2304 - val_accuracy: 0.8906\n",
      "Epoch 20/20\n",
      "20/20 [==============================] - 16s 811ms/step - loss: 0.1712 - accuracy: 0.9403 - val_loss: 0.2610 - val_accuracy: 0.8906\n"
     ]
    }
   ],
   "source": [
    "history = model.fit(\n",
    "    train_ds,\n",
    "    epochs=EPOCH,\n",
    "    batch_size=BATCH_SIZE,\n",
    "    verbose=1,\n",
    "    validation_data=val_ds\n",
    ")"
   ]
  },
  {
   "cell_type": "code",
   "execution_count": 16,
   "id": "e60355c2",
   "metadata": {},
   "outputs": [
    {
     "name": "stdout",
     "output_type": "stream",
     "text": [
      "3/3 [==============================] - 2s 227ms/step - loss: 0.2623 - accuracy: 0.8958\n"
     ]
    }
   ],
   "source": [
    "score = model.evaluate(test_ds)"
   ]
  },
  {
   "cell_type": "code",
   "execution_count": 17,
   "id": "86f153b7",
   "metadata": {},
   "outputs": [
    {
     "data": {
      "text/plain": [
       "[0.26233920454978943, 0.8958333134651184]"
      ]
     },
     "execution_count": 17,
     "metadata": {},
     "output_type": "execute_result"
    }
   ],
   "source": [
    "score"
   ]
  },
  {
   "cell_type": "code",
   "execution_count": 18,
   "id": "8b424e95",
   "metadata": {},
   "outputs": [
    {
     "data": {
      "text/plain": [
       "{'verbose': 1, 'epochs': 20, 'steps': 20}"
      ]
     },
     "execution_count": 18,
     "metadata": {},
     "output_type": "execute_result"
    }
   ],
   "source": [
    "history.params"
   ]
  },
  {
   "cell_type": "code",
   "execution_count": 19,
   "id": "c5a09b5a",
   "metadata": {},
   "outputs": [
    {
     "data": {
      "text/plain": [
       "dict_keys(['loss', 'accuracy', 'val_loss', 'val_accuracy'])"
      ]
     },
     "execution_count": 19,
     "metadata": {},
     "output_type": "execute_result"
    }
   ],
   "source": [
    "history.history.keys()"
   ]
  },
  {
   "cell_type": "code",
   "execution_count": 20,
   "id": "9a98f23a",
   "metadata": {},
   "outputs": [],
   "source": [
    "acc = history.history['accuracy']\n",
    "val_acc = history.history['val_accuracy']\n",
    "\n",
    "loss = history.history['loss']\n",
    "val_loss = history.history['val_loss']"
   ]
  },
  {
   "cell_type": "code",
   "execution_count": 21,
   "id": "37e191e2",
   "metadata": {},
   "outputs": [],
   "source": [
    "import matplotlib.pyplot as plt"
   ]
  },
  {
   "cell_type": "code",
   "execution_count": 23,
   "id": "b81adeac",
   "metadata": {},
   "outputs": [
    {
     "data": {
      "image/png": "[encoded data removed]",
      "text/plain": [
       "<Figure size 800x800 with 2 Axes>"
      ]
     },
     "metadata": {},
     "output_type": "display_data"
    }
   ],
   "source": [
    "plt.figure(figsize=(8, 8))\n",
    "plt.subplot(1, 2, 1)\n",
    "plt.plot(range(EPOCH), acc, label='Training Accuracy')\n",
    "plt.plot(range(EPOCH), val_acc, label='Validation Accuracy')\n",
    "plt.legend(loc='lower right')\n",
    "plt.title('Training and Validation Accuracy')\n",
    "\n",
    "plt.subplot(1, 2, 2)\n",
    "plt.plot(range(EPOCH), loss, label='Training Loss')\n",
    "plt.plot(range(EPOCH), val_loss, label='Validation Loss')\n",
    "plt.legend(loc='upper right')\n",
    "plt.title('Training and Validation Loss')\n",
    "plt.show()"
   ]
  },
  {
   "cell_type": "code",
   "execution_count": 24,
   "id": "02cf1855",
   "metadata": {},
   "outputs": [
    {
     "name": "stdout",
     "output_type": "stream",
     "text": [
      "INFO:tensorflow:Assets written to: model/bc_mri\\assets\n"
     ]
    }
   ],
   "source": [
    "model_version = \"bc_mri\"\n",
    "model.save(f\"model/{model_version}\")"
   ]
  },
  {
   "cell_type": "code",
   "execution_count": null,
   "id": "5c8848ac",
   "metadata": {},
   "outputs": [],
   "source": []
  }
 ],
 "metadata": {
  "kernelspec": {
   "display_name": "Python 3 (ipykernel)",
   "language": "python",
   "name": "python3"
  },
  "language_info": {
   "codemirror_mode": {
    "name": "ipython",
    "version": 3
   },
   "file_extension": ".py",
   "mimetype": "text/x-python",
   "name": "python",
   "nbconvert_exporter": "python",
   "pygments_lexer": "ipython3",
   "version": "3.9.12"
  }
 },
 "nbformat": 4,
 "nbformat_minor": 5
}
